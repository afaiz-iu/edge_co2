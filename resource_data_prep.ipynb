{
 "cells": [
  {
   "cell_type": "code",
   "execution_count": 1,
   "metadata": {},
   "outputs": [],
   "source": [
    "import pandas as pd\n",
    "import numpy as np\n",
    "import os\n",
    "import matplotlib.pyplot as plt"
   ]
  },
  {
   "cell_type": "code",
   "execution_count": 2,
   "metadata": {},
   "outputs": [],
   "source": [
    "base_pth = r'/Users/ahmadfaiz/Documents/edge_llmc/'\n",
    "int8_agx30_pth = os.path.join(base_pth, \"int8_trt\", \"int8_agx64g_30W\", \"logs2\")\n",
    "int8_agx50_pth = os.path.join(base_pth, \"int8_trt\", \"int8_agx64g_50W\", \"logs2\")\n",
    "int8_agx15_pth = os.path.join(base_pth, \"int8_trt\", \"int8_agx64g_15W\", \"logs_15W\")\n",
    "fp32_agx30_pth = os.path.join(base_pth, \"agx_64g\", \"logs2\", \"logs2\")\n",
    "fp32_agx50_pth = os.path.join(base_pth, \"agx_64_50W\", \"logs2\")\n",
    "fp32_agx15_pth = os.path.join(base_pth, \"agx64_15W\", \"agx64_15W\", \"logs2\")\n",
    "fp32_nano15_pth = os.path.join(base_pth, \"nano_8g\", \"logs_nano_8g\")\n",
    "fp32_cpu30_pth = os.path.join(base_pth, \"cpu_agx64\", \"logs_30W\")\n",
    "fp32_cpu15_pth = os.path.join(base_pth, \"cpu_agx64\", \"logs_15W\")\n",
    "fp32_cpu50_pth = os.path.join(base_pth, \"cpu_agx64\", \"logs_50W\")"
   ]
  },
  {
   "cell_type": "code",
   "execution_count": 3,
   "metadata": {},
   "outputs": [],
   "source": [
    "model_list = ['alexnet', 'squeezenet', 'resnet18', 'resnet50', 'densenet', 'vgg16']\n",
    "metric_list = ['mem', 'power', 'cpu', 'cpu_temp']\n",
    "b_size_list = [1,2,4,8,16,32,64,128,256]\n",
    "\n",
    "## resource metrics\n",
    "mem_cols = [\"hw_name\", \"model_name\", \"batch_size\", \"tot\", \"used\", \"free\", \"buffers\", \"cached\", \"shared\", \"lfb\"]\n",
    "pow_cols = [\"hw_name\", \"model_name\", \"batch_size\", \"power\", \"average_power\"]\n",
    "energy_cols = [\"hw_name\", \"model_name\", \"batch_size\", \"energy\"]\n",
    "cpu_cols = [\"hw_name\", \"model_name\", \"batch_size\", \"user\", \"nice\", \"system\", \"idle\"]\n",
    "cpu_temp_cols = [\"hw_name\", \"model_name\", \"batch_size\", \"temp\", \"online\"]\n",
    "\n",
    "##batch size filters if required\n",
    "b_size_filt = [32,64,128]"
   ]
  },
  {
   "cell_type": "code",
   "execution_count": 4,
   "metadata": {},
   "outputs": [],
   "source": [
    "#data load for throughput readings\n",
    "def util_prep(model_list, pth_, precision, hw_name, power_mode):\n",
    "    '''prepare union dataset across all logs for throughput data'''\n",
    "    util_dict = {mod: {str(b): None for b in b_size_list} for mod in model_list}\n",
    "    for mod in model_list:\n",
    "        pth = os.path.join(pth_, mod)\n",
    "        util_files = [f for f in os.listdir(pth) if f.startswith(\"util\")]\n",
    "        for u_f in util_files:\n",
    "            sub = u_f.split(\"_\")\n",
    "            util_dict[sub[1]][str(sub[2])] = pd.read_csv(os.path.join(pth, u_f))\n",
    "    util_df = pd.DataFrame()\n",
    "    for mod in model_list:\n",
    "        k_ = util_dict[mod].values()\n",
    "        if any(el_ is not None for el_ in k_):\n",
    "            mod_util = list(util_dict[mod].values())\n",
    "            if mod_util:\n",
    "                mod_util_df = pd.concat(mod_util).reset_index(drop=True)\n",
    "                mod_util_df = mod_util_df.assign(model_name = mod, precision = precision, hw_name = hw_name)\n",
    "                util_df = pd.concat([util_df, mod_util_df], ignore_index=True)\n",
    "    df_grouped = util_df.groupby([\"hw_name\", \"model_name\", \"precision\", \"batch_size\"])\n",
    "    #.agg() accepts a list of tuples with operations defined as string\n",
    "    df_thru = df_grouped[\"iter_throughput\"].agg([(\"mean_throughput\", \"mean\"), (\"std_throughput\", \"std\")]).reset_index()\n",
    "    df_inf = df_grouped[\"iter_time\"].agg([(\"mean_time\", \"mean\"), (\"std_time\", \"std\")]).reset_index()\n",
    "    util_df_agg = pd.merge(left=df_thru, right=df_inf, on=[\"hw_name\", \"precision\", \"model_name\", \"batch_size\"], how=\"inner\")    \n",
    "    util_df_agg[\"power_mode\"] = power_mode\n",
    "    return util_df_agg"
   ]
  },
  {
   "cell_type": "code",
   "execution_count": 5,
   "metadata": {},
   "outputs": [],
   "source": [
    "# int8_util_df = pd.DataFrame()\n",
    "int8agx30_util_df = util_prep(model_list, int8_agx30_pth, \"int8\", \"agx64g\", \"30W\")\n",
    "int8agx50_util_df = util_prep(model_list, int8_agx50_pth, \"int8\", \"agx64g\", \"50W\")\n",
    "int8agx15_util_df = util_prep(model_list, int8_agx15_pth, \"int8\", \"agx64g\", \"15W\")\n",
    "fp32agx30_util_df = util_prep(model_list, fp32_agx30_pth, \"fp32\", \"agx64g\", \"30W\")\n",
    "fp32agx50_util_df = util_prep(model_list, fp32_agx50_pth, \"fp32\", \"agx64g\", \"50W\")\n",
    "fp32agx15_util_df = util_prep(model_list, fp32_agx15_pth, \"fp32\", \"agx64g\", \"15W\")\n",
    "fp32nano15_util_df = util_prep(model_list, fp32_nano15_pth, \"fp32\", \"nano8g\", \"15W\")\n",
    "fp32cpu30_util_df = util_prep(model_list, fp32_cpu30_pth, \"fp32\", \"cpu\", \"30W\")\n",
    "fp32cpu15_util_df = util_prep(model_list, fp32_cpu15_pth, \"fp32\", \"cpu\", \"15W\")\n",
    "fp32cpu50_util_df = util_prep(model_list, fp32_cpu50_pth, \"fp32\", \"cpu\", \"50W\")"
   ]
  },
  {
   "cell_type": "code",
   "execution_count": 29,
   "metadata": {},
   "outputs": [],
   "source": [
    "def set_vals(df_, precision, hw_name, power_mode):\n",
    "    df_[\"precision\"] = precision\n",
    "    df_[\"hw_name\"] = hw_name\n",
    "    df_[\"power_mode\"] = power_mode\n",
    "    df_['time'] = df_.groupby(['hw_name', 'model_name', 'batch_size', 'power_mode', 'precision']).cumcount() + 1\n",
    "    return df_"
   ]
  },
  {
   "cell_type": "code",
   "execution_count": 30,
   "metadata": {},
   "outputs": [],
   "source": [
    "def res_prep(model_list, b_size_list, metric_list, pth_, mem_cols, pow_cols, cpu_cols, cpu_temp_cols, precision, hw_name, power_mode):\n",
    "    '''Prepare union dataset across all logs for each hardware resource metric. Metrics included are\n",
    "    1. Memory\n",
    "    2. CPU\n",
    "    3. Power\n",
    "    4. CPU Temperature\n",
    "    '''\n",
    "    hw_dict = {mod: {met: {str(b): None for b in b_size_list} for met in metric_list} for mod in model_list}\n",
    "    for mod in model_list:\n",
    "        pth = os.path.join(pth_, mod)\n",
    "        files = [f for f in os.listdir(pth) if f.endswith(\"csv\") and not f.startswith(\"util\")]\n",
    "        for f in files:\n",
    "            if \"temp\" not in f:\n",
    "                sub = f.split('_')            \n",
    "                hw_dict[sub[1]][sub[0]][str(sub[2])] = pd.read_csv(os.path.join(pth, f))\n",
    "            else:\n",
    "                sub = f.split('_')\n",
    "                hw_dict[sub[2]][\"_\".join([sub[0], sub[1]])][str(sub[3])] = pd.read_csv(os.path.join(pth, f))\n",
    "\n",
    "    ## create individual resource metric dataframe\n",
    "    mem_df = pd.DataFrame(columns=mem_cols)\n",
    "    pow_df = pd.DataFrame(columns=pow_cols)\n",
    "    cpu_df = pd.DataFrame(columns=cpu_cols)\n",
    "    cpu_temp_df = pd.DataFrame(columns=cpu_temp_cols)\n",
    "\n",
    "    for model_name,v in hw_dict.items():\n",
    "        for met, v1 in v.items():\n",
    "            if met == \"mem\":\n",
    "                for b_size, v2 in v1.items():\n",
    "                    if v2 is not None:\n",
    "                        df_ = pd.DataFrame({\n",
    "                            \"hw_name\": \"agx\",\n",
    "                            \"model_name\": model_name,\n",
    "                            \"batch_size\": int(b_size),\n",
    "                            \"tot\": v2[\"tot\"],\n",
    "                            \"used\": v2[\"used\"],\n",
    "                            \"free\": v2[\"free\"],\n",
    "                            \"buffers\": v2[\"buffers\"],\n",
    "                            \"cached\": v2[\"cached\"],\n",
    "                            \"shared\": v2[\"shared\"],\n",
    "                            \"lfb\": v2[\"lfb\"]\n",
    "                        })\n",
    "                        mem_df = pd.concat([mem_df, df_], ignore_index=True)\n",
    "            if met == \"power\":\n",
    "                for b_size, v2 in v1.items():\n",
    "                    if v2 is not None:\n",
    "                        df_ = pd.DataFrame({\n",
    "                            \"hw_name\": \"agx\",\n",
    "                            \"model_name\": model_name,\n",
    "                            \"batch_size\": int(b_size),\n",
    "                            \"power\": v2[\"power\"],\n",
    "                            \"average_power\": v2[\"average_power\"]\n",
    "                        })\n",
    "                        pow_df = pd.concat([pow_df, df_], ignore_index=True) \n",
    "            if met == \"cpu\":\n",
    "                for b_size, v2 in v1.items():\n",
    "                    if v2 is not None:\n",
    "                        df_ = pd.DataFrame({\n",
    "                            \"hw_name\": \"agx\",\n",
    "                            \"model_name\": model_name,\n",
    "                            \"batch_size\": int(b_size),\n",
    "                            \"user\": v2[\"user\"],\n",
    "                            \"nice\": v2[\"nice\"],\n",
    "                            \"system\": v2[\"system\"],\n",
    "                            \"idle\": v2[\"idle\"],\n",
    "                        })\n",
    "                        cpu_df = pd.concat([cpu_df, df_], ignore_index=True)\n",
    "            if met == \"cpu_temp\":\n",
    "                for b_size, v2 in v1.items():\n",
    "                    if v2 is not None:\n",
    "                        df_ = pd.DataFrame({\n",
    "                            \"hw_name\": \"agx\",\n",
    "                            \"model_name\": model_name,\n",
    "                            \"batch_size\": int(b_size),\n",
    "                            \"temp\": v2[\"temp\"],\n",
    "                            \"online\": v2[\"online\"]\n",
    "                        })\n",
    "                        cpu_temp_df = pd.concat([cpu_temp_df, df_], ignore_index=True)\n",
    "\n",
    "    mem_df[\"used_rate\"] = mem_df[\"used\"]/mem_df[\"tot\"]\n",
    "    cpu_df[\"user_system\"] = cpu_df[\"user\"] + cpu_df[\"system\"]\n",
    "\n",
    "    mem_df = set_vals(mem_df, precision, hw_name, power_mode)\n",
    "    cpu_df = set_vals(cpu_df, precision, hw_name, power_mode)\n",
    "    pow_df = set_vals(pow_df, precision, hw_name, power_mode)\n",
    "    cpu_temp_df = set_vals(cpu_temp_df, precision, hw_name, power_mode)\n",
    "\n",
    "    return mem_df, pow_df, cpu_df, cpu_temp_df"
   ]
  },
  {
   "cell_type": "code",
   "execution_count": 31,
   "metadata": {},
   "outputs": [],
   "source": [
    "mem_int8agx30, pow_int8agx30, cpu_int8agx30, cpu_temp_int8agx30 = res_prep(model_list, b_size_list, metric_list, int8_agx30_pth, mem_cols, pow_cols, cpu_cols, cpu_temp_cols, precision=\"int8\", hw_name=\"agx64g\", power_mode=\"30W\")\n",
    "mem_int8agx50, pow_int8agx50, cpu_int8agx50, cpu_temp_int8agx50 = res_prep(model_list, b_size_list, metric_list, int8_agx50_pth, mem_cols, pow_cols, cpu_cols, cpu_temp_cols, precision=\"int8\", hw_name=\"agx64g\", power_mode=\"50W\")\n",
    "mem_int8agx15, pow_int8agx15, cpu_int8agx15, cpu_temp_int8agx15 = res_prep(model_list, b_size_list, metric_list, int8_agx15_pth, mem_cols, pow_cols, cpu_cols, cpu_temp_cols, precision=\"int8\", hw_name=\"agx64g\", power_mode=\"15W\")\n",
    "\n",
    "mem_fp32agx30, pow_fp32agx30, cpu_fp32agx30, cpu_temp_fp32agx30 = res_prep(model_list, b_size_list, metric_list, fp32_agx30_pth, mem_cols, pow_cols, cpu_cols, cpu_temp_cols, precision=\"fp32\", hw_name=\"agx64g\", power_mode=\"30W\")\n",
    "mem_fp32agx50, pow_fp32agx50, cpu_fp32agx50, cpu_temp_fp32agx50 = res_prep(model_list, b_size_list, metric_list, fp32_agx50_pth, mem_cols, pow_cols, cpu_cols, cpu_temp_cols, precision=\"fp32\", hw_name=\"agx64g\", power_mode=\"50W\")\n",
    "mem_fp32agx15, pow_fp32agx15, cpu_fp32agx15, cpu_temp_fp32agx15 = res_prep(model_list, b_size_list, metric_list, fp32_agx15_pth, mem_cols, pow_cols, cpu_cols, cpu_temp_cols, precision=\"fp32\", hw_name=\"agx64g\", power_mode=\"15W\")\n",
    "\n",
    "mem_fp32nano15, pow_fp32nano15, cpu_fp32nano15, cpu_temp_fp32nano15 = res_prep(model_list, b_size_list, metric_list, fp32_nano15_pth, mem_cols, pow_cols, cpu_cols, cpu_temp_cols, precision=\"fp32\", hw_name=\"nano8g\", power_mode=\"15W\")\n",
    "\n",
    "mem_fp32cpu30, pow_fp32cpu30, cpu_fp32cpu30, cpu_temp_fp32cpu30 = res_prep(model_list, b_size_list, metric_list, fp32_cpu30_pth, mem_cols, pow_cols, cpu_cols, cpu_temp_cols, precision=\"fp32\", hw_name=\"cpu\", power_mode=\"30W\")\n",
    "mem_fp32cpu15, pow_fp32cpu15, cpu_fp32cpu15, cpu_temp_fp32cpu15 = res_prep(model_list, b_size_list, metric_list, fp32_cpu15_pth, mem_cols, pow_cols, cpu_cols, cpu_temp_cols, precision=\"fp32\", hw_name=\"cpu\", power_mode=\"15W\")\n",
    "mem_fp32cpu50, pow_fp32cpu50, cpu_fp32cpu50, cpu_temp_fp32cpu50 = res_prep(model_list, b_size_list, metric_list, fp32_cpu50_pth, mem_cols, pow_cols, cpu_cols, cpu_temp_cols, precision=\"fp32\", hw_name=\"cpu\", power_mode=\"50W\")"
   ]
  },
  {
   "cell_type": "code",
   "execution_count": 32,
   "metadata": {},
   "outputs": [
    {
     "data": {
      "text/html": [
       "<div>\n",
       "<style scoped>\n",
       "    .dataframe tbody tr th:only-of-type {\n",
       "        vertical-align: middle;\n",
       "    }\n",
       "\n",
       "    .dataframe tbody tr th {\n",
       "        vertical-align: top;\n",
       "    }\n",
       "\n",
       "    .dataframe thead th {\n",
       "        text-align: right;\n",
       "    }\n",
       "</style>\n",
       "<table border=\"1\" class=\"dataframe\">\n",
       "  <thead>\n",
       "    <tr style=\"text-align: right;\">\n",
       "      <th></th>\n",
       "      <th>hw_name</th>\n",
       "      <th>model_name</th>\n",
       "      <th>batch_size</th>\n",
       "      <th>tot</th>\n",
       "      <th>used</th>\n",
       "      <th>free</th>\n",
       "      <th>buffers</th>\n",
       "      <th>cached</th>\n",
       "      <th>shared</th>\n",
       "      <th>lfb</th>\n",
       "      <th>used_rate</th>\n",
       "      <th>precision</th>\n",
       "      <th>power_mode</th>\n",
       "      <th>time</th>\n",
       "    </tr>\n",
       "  </thead>\n",
       "  <tbody>\n",
       "    <tr>\n",
       "      <th>96</th>\n",
       "      <td>agx64g</td>\n",
       "      <td>alexnet</td>\n",
       "      <td>256</td>\n",
       "      <td>64307736</td>\n",
       "      <td>3991844</td>\n",
       "      <td>58065240</td>\n",
       "      <td>58136</td>\n",
       "      <td>2294404</td>\n",
       "      <td>232760</td>\n",
       "      <td>14096</td>\n",
       "      <td>0.062074</td>\n",
       "      <td>int8</td>\n",
       "      <td>30W</td>\n",
       "      <td>1</td>\n",
       "    </tr>\n",
       "    <tr>\n",
       "      <th>97</th>\n",
       "      <td>agx64g</td>\n",
       "      <td>alexnet</td>\n",
       "      <td>256</td>\n",
       "      <td>64307736</td>\n",
       "      <td>4093916</td>\n",
       "      <td>57963148</td>\n",
       "      <td>58136</td>\n",
       "      <td>2294432</td>\n",
       "      <td>306620</td>\n",
       "      <td>14087</td>\n",
       "      <td>0.063661</td>\n",
       "      <td>int8</td>\n",
       "      <td>30W</td>\n",
       "      <td>2</td>\n",
       "    </tr>\n",
       "    <tr>\n",
       "      <th>98</th>\n",
       "      <td>agx64g</td>\n",
       "      <td>alexnet</td>\n",
       "      <td>256</td>\n",
       "      <td>64307736</td>\n",
       "      <td>4395928</td>\n",
       "      <td>57661136</td>\n",
       "      <td>58136</td>\n",
       "      <td>2294452</td>\n",
       "      <td>673468</td>\n",
       "      <td>14073</td>\n",
       "      <td>0.068358</td>\n",
       "      <td>int8</td>\n",
       "      <td>30W</td>\n",
       "      <td>3</td>\n",
       "    </tr>\n",
       "    <tr>\n",
       "      <th>99</th>\n",
       "      <td>agx64g</td>\n",
       "      <td>alexnet</td>\n",
       "      <td>256</td>\n",
       "      <td>64307736</td>\n",
       "      <td>4799888</td>\n",
       "      <td>57257144</td>\n",
       "      <td>58136</td>\n",
       "      <td>2294608</td>\n",
       "      <td>918716</td>\n",
       "      <td>13974</td>\n",
       "      <td>0.074639</td>\n",
       "      <td>int8</td>\n",
       "      <td>30W</td>\n",
       "      <td>4</td>\n",
       "    </tr>\n",
       "    <tr>\n",
       "      <th>100</th>\n",
       "      <td>agx64g</td>\n",
       "      <td>alexnet</td>\n",
       "      <td>256</td>\n",
       "      <td>64307736</td>\n",
       "      <td>4922316</td>\n",
       "      <td>57134716</td>\n",
       "      <td>58136</td>\n",
       "      <td>2294612</td>\n",
       "      <td>1086780</td>\n",
       "      <td>13945</td>\n",
       "      <td>0.076543</td>\n",
       "      <td>int8</td>\n",
       "      <td>30W</td>\n",
       "      <td>5</td>\n",
       "    </tr>\n",
       "    <tr>\n",
       "      <th>...</th>\n",
       "      <td>...</td>\n",
       "      <td>...</td>\n",
       "      <td>...</td>\n",
       "      <td>...</td>\n",
       "      <td>...</td>\n",
       "      <td>...</td>\n",
       "      <td>...</td>\n",
       "      <td>...</td>\n",
       "      <td>...</td>\n",
       "      <td>...</td>\n",
       "      <td>...</td>\n",
       "      <td>...</td>\n",
       "      <td>...</td>\n",
       "      <td>...</td>\n",
       "    </tr>\n",
       "    <tr>\n",
       "      <th>388</th>\n",
       "      <td>agx64g</td>\n",
       "      <td>squeezenet</td>\n",
       "      <td>256</td>\n",
       "      <td>64307736</td>\n",
       "      <td>6034404</td>\n",
       "      <td>55517636</td>\n",
       "      <td>59312</td>\n",
       "      <td>2799584</td>\n",
       "      <td>1671180</td>\n",
       "      <td>13541</td>\n",
       "      <td>0.093836</td>\n",
       "      <td>int8</td>\n",
       "      <td>30W</td>\n",
       "      <td>38</td>\n",
       "    </tr>\n",
       "    <tr>\n",
       "      <th>389</th>\n",
       "      <td>agx64g</td>\n",
       "      <td>squeezenet</td>\n",
       "      <td>256</td>\n",
       "      <td>64307736</td>\n",
       "      <td>6033900</td>\n",
       "      <td>55518140</td>\n",
       "      <td>59312</td>\n",
       "      <td>2799584</td>\n",
       "      <td>1671180</td>\n",
       "      <td>13541</td>\n",
       "      <td>0.093829</td>\n",
       "      <td>int8</td>\n",
       "      <td>30W</td>\n",
       "      <td>39</td>\n",
       "    </tr>\n",
       "    <tr>\n",
       "      <th>390</th>\n",
       "      <td>agx64g</td>\n",
       "      <td>squeezenet</td>\n",
       "      <td>256</td>\n",
       "      <td>64307736</td>\n",
       "      <td>6033884</td>\n",
       "      <td>55518156</td>\n",
       "      <td>59312</td>\n",
       "      <td>2799584</td>\n",
       "      <td>1671180</td>\n",
       "      <td>13541</td>\n",
       "      <td>0.093828</td>\n",
       "      <td>int8</td>\n",
       "      <td>30W</td>\n",
       "      <td>40</td>\n",
       "    </tr>\n",
       "    <tr>\n",
       "      <th>391</th>\n",
       "      <td>agx64g</td>\n",
       "      <td>squeezenet</td>\n",
       "      <td>256</td>\n",
       "      <td>64307736</td>\n",
       "      <td>6034128</td>\n",
       "      <td>55517912</td>\n",
       "      <td>59312</td>\n",
       "      <td>2799584</td>\n",
       "      <td>1671180</td>\n",
       "      <td>13541</td>\n",
       "      <td>0.093832</td>\n",
       "      <td>int8</td>\n",
       "      <td>30W</td>\n",
       "      <td>41</td>\n",
       "    </tr>\n",
       "    <tr>\n",
       "      <th>392</th>\n",
       "      <td>agx64g</td>\n",
       "      <td>squeezenet</td>\n",
       "      <td>256</td>\n",
       "      <td>64307736</td>\n",
       "      <td>6034380</td>\n",
       "      <td>55517660</td>\n",
       "      <td>59312</td>\n",
       "      <td>2799584</td>\n",
       "      <td>1671180</td>\n",
       "      <td>13541</td>\n",
       "      <td>0.093836</td>\n",
       "      <td>int8</td>\n",
       "      <td>30W</td>\n",
       "      <td>42</td>\n",
       "    </tr>\n",
       "  </tbody>\n",
       "</table>\n",
       "<p>100 rows × 14 columns</p>\n",
       "</div>"
      ],
      "text/plain": [
       "    hw_name  model_name batch_size       tot     used      free buffers  \\\n",
       "96   agx64g     alexnet        256  64307736  3991844  58065240   58136   \n",
       "97   agx64g     alexnet        256  64307736  4093916  57963148   58136   \n",
       "98   agx64g     alexnet        256  64307736  4395928  57661136   58136   \n",
       "99   agx64g     alexnet        256  64307736  4799888  57257144   58136   \n",
       "100  agx64g     alexnet        256  64307736  4922316  57134716   58136   \n",
       "..      ...         ...        ...       ...      ...       ...     ...   \n",
       "388  agx64g  squeezenet        256  64307736  6034404  55517636   59312   \n",
       "389  agx64g  squeezenet        256  64307736  6033900  55518140   59312   \n",
       "390  agx64g  squeezenet        256  64307736  6033884  55518156   59312   \n",
       "391  agx64g  squeezenet        256  64307736  6034128  55517912   59312   \n",
       "392  agx64g  squeezenet        256  64307736  6034380  55517660   59312   \n",
       "\n",
       "      cached   shared    lfb used_rate precision power_mode  time  \n",
       "96   2294404   232760  14096  0.062074      int8        30W     1  \n",
       "97   2294432   306620  14087  0.063661      int8        30W     2  \n",
       "98   2294452   673468  14073  0.068358      int8        30W     3  \n",
       "99   2294608   918716  13974  0.074639      int8        30W     4  \n",
       "100  2294612  1086780  13945  0.076543      int8        30W     5  \n",
       "..       ...      ...    ...       ...       ...        ...   ...  \n",
       "388  2799584  1671180  13541  0.093836      int8        30W    38  \n",
       "389  2799584  1671180  13541  0.093829      int8        30W    39  \n",
       "390  2799584  1671180  13541  0.093828      int8        30W    40  \n",
       "391  2799584  1671180  13541  0.093832      int8        30W    41  \n",
       "392  2799584  1671180  13541  0.093836      int8        30W    42  \n",
       "\n",
       "[100 rows x 14 columns]"
      ]
     },
     "execution_count": 32,
     "metadata": {},
     "output_type": "execute_result"
    }
   ],
   "source": [
    "mem_int8agx30[mem_int8agx30['batch_size'] == 256][:100]"
   ]
  },
  {
   "cell_type": "code",
   "execution_count": 33,
   "metadata": {},
   "outputs": [],
   "source": [
    "mem_df_list = [\n",
    "    mem_int8agx30,\n",
    "    mem_int8agx50,\n",
    "    mem_int8agx15,\n",
    "    mem_fp32agx30,\n",
    "    mem_fp32agx50,\n",
    "    mem_fp32agx15,\n",
    "    mem_fp32nano15,\n",
    "    mem_fp32cpu30,\n",
    "    mem_fp32cpu15,\n",
    "    mem_fp32cpu50\n",
    "]\n",
    "pow_df_list = [\n",
    "    pow_int8agx30,\n",
    "    pow_int8agx50,\n",
    "    pow_int8agx15,\n",
    "    pow_fp32agx30,\n",
    "    pow_fp32agx50,\n",
    "    pow_fp32agx15,\n",
    "    pow_fp32nano15,\n",
    "    pow_fp32cpu30,\n",
    "    pow_fp32cpu15,\n",
    "    pow_fp32cpu50\n",
    "]\n",
    "cpu_df_list = [\n",
    "    cpu_int8agx30,\n",
    "    cpu_int8agx50,\n",
    "    cpu_int8agx15,\n",
    "    cpu_fp32agx30,\n",
    "    cpu_fp32agx50,\n",
    "    cpu_fp32agx15,\n",
    "    cpu_fp32nano15,\n",
    "    cpu_fp32cpu30,\n",
    "    cpu_fp32cpu15,\n",
    "    cpu_fp32cpu50\n",
    "]\n",
    "cpu_temp_df_list = [\n",
    "    cpu_temp_int8agx30,\n",
    "    cpu_temp_int8agx50,\n",
    "    cpu_temp_int8agx15,\n",
    "    cpu_temp_fp32agx30,\n",
    "    cpu_temp_fp32agx50,\n",
    "    cpu_temp_fp32agx15,\n",
    "    cpu_temp_fp32nano15,\n",
    "    cpu_temp_fp32cpu30,\n",
    "    cpu_temp_fp32cpu15,\n",
    "    cpu_temp_fp32cpu50\n",
    "]\n",
    "all_mem = pd.concat(mem_df_list, ignore_index=True)\n",
    "all_cpu = pd.concat(cpu_df_list, ignore_index=True)\n",
    "all_pow = pd.concat(pow_df_list, ignore_index=True)\n",
    "all_cpu_temp = pd.concat(cpu_temp_df_list, ignore_index=True)"
   ]
  },
  {
   "cell_type": "code",
   "execution_count": 35,
   "metadata": {},
   "outputs": [],
   "source": [
    "all_mem.to_csv(\"all_mem.csv\", index=False)\n",
    "all_cpu.to_csv(\"all_cpu.csv\", index=False)\n",
    "all_pow.to_csv(\"all_pow.csv\", index=False)\n",
    "all_cpu_temp.to_csv(\"all_cpu_temp.csv\", index=False)"
   ]
  },
  {
   "cell_type": "code",
   "execution_count": 36,
   "metadata": {},
   "outputs": [
    {
     "data": {
      "image/png": "[encoded data removed]",
      "text/plain": [
       "<Figure size 432x288 with 1 Axes>"
      ]
     },
     "metadata": {
      "needs_background": "light"
     },
     "output_type": "display_data"
    }
   ],
   "source": [
    "import matplotlib.pyplot as plt\n",
    "\n",
    "# Example data (replace this with your actual data)\n",
    "batch_sizes = [4, 8, 16, 32]  # Batch sizes\n",
    "mem_mean = [100, 120, 110, 105]  # Mean memory usage for each batch size\n",
    "mem_std = [5, 6, 4, 3]  # Standard deviation of memory usage for each batch size\n",
    "cpu_mean = [80, 85, 90, 88]  # Mean CPU utilization for each batch size\n",
    "cpu_std = [4, 3, 5, 6]  # Standard deviation of CPU utilization for each batch size\n",
    "\n",
    "# Number of metrics (e.g., memory usage, CPU utilization)\n",
    "num_metrics = 2\n",
    "\n",
    "bar_width = 0.35  # Width of each bar\n",
    "index = range(len(batch_sizes))  # Index for x-axis positions\n",
    "\n",
    "# Plotting grouped bars for each metric\n",
    "fig, ax = plt.subplots()\n",
    "for i in range(num_metrics):\n",
    "    bars = ax.bar([x + i * bar_width for x in index], [mem_mean, cpu_mean][i],\n",
    "                  bar_width, yerr=[mem_std, cpu_std][i], capsize=5, label=f\"Metric {i+1}\")\n",
    "\n",
    "# Customize plot labels, titles, legends, etc.\n",
    "ax.set_xlabel('Batch Size')\n",
    "ax.set_ylabel('Metrics')\n",
    "ax.set_title('Metrics by Batch Size')\n",
    "ax.set_xticks([x + bar_width * (num_metrics - 1) / 2 for x in index])\n",
    "ax.set_xticklabels(batch_sizes)\n",
    "ax.legend()\n",
    "\n",
    "plt.tight_layout()\n",
    "plt.show()\n"
   ]
  },
  {
   "cell_type": "code",
   "execution_count": 39,
   "metadata": {},
   "outputs": [
    {
     "ename": "ValueError",
     "evalue": "The number of FixedLocator locations (4), usually from a call to set_ticks, does not match the number of ticklabels (24).",
     "output_type": "error",
     "traceback": [
      "\u001b[0;31m---------------------------------------------------------------------------\u001b[0m",
      "\u001b[0;31mValueError\u001b[0m                                Traceback (most recent call last)",
      "Input \u001b[0;32mIn [39]\u001b[0m, in \u001b[0;36m<cell line: 38>\u001b[0;34m()\u001b[0m\n\u001b[1;32m     34\u001b[0m     plt\u001b[38;5;241m.\u001b[39mboxplot(mem_values, positions\u001b[38;5;241m=\u001b[39mpositions, widths\u001b[38;5;241m=\u001b[39m\u001b[38;5;241m0.15\u001b[39m, patch_artist\u001b[38;5;241m=\u001b[39m\u001b[38;5;28;01mTrue\u001b[39;00m, showfliers\u001b[38;5;241m=\u001b[39m\u001b[38;5;28;01mFalse\u001b[39;00m,\n\u001b[1;32m     35\u001b[0m                 boxprops\u001b[38;5;241m=\u001b[39m\u001b[38;5;28mdict\u001b[39m(facecolor\u001b[38;5;241m=\u001b[39m\u001b[38;5;124mf\u001b[39m\u001b[38;5;124m'\u001b[39m\u001b[38;5;124mC\u001b[39m\u001b[38;5;132;01m{\u001b[39;00mmodels\u001b[38;5;241m.\u001b[39mindex(model)\u001b[38;5;132;01m}\u001b[39;00m\u001b[38;5;124m'\u001b[39m, alpha\u001b[38;5;241m=\u001b[39m\u001b[38;5;241m0.5\u001b[39m), manage_ticks\u001b[38;5;241m=\u001b[39m\u001b[38;5;28;01mFalse\u001b[39;00m)\n\u001b[1;32m     37\u001b[0m \u001b[38;5;66;03m# Set x-axis ticks and labels\u001b[39;00m\n\u001b[0;32m---> 38\u001b[0m \u001b[43mplt\u001b[49m\u001b[38;5;241;43m.\u001b[39;49m\u001b[43mxticks\u001b[49m\u001b[43m(\u001b[49m\u001b[43mnp\u001b[49m\u001b[38;5;241;43m.\u001b[39;49m\u001b[43marange\u001b[49m\u001b[43m(\u001b[49m\u001b[38;5;241;43m1\u001b[39;49m\u001b[43m,\u001b[49m\u001b[43m \u001b[49m\u001b[38;5;28;43mlen\u001b[39;49m\u001b[43m(\u001b[49m\u001b[43mbatch_sizes\u001b[49m\u001b[43m)\u001b[49m\u001b[43m \u001b[49m\u001b[38;5;241;43m*\u001b[39;49m\u001b[43m \u001b[49m\u001b[43m(\u001b[49m\u001b[38;5;28;43mlen\u001b[39;49m\u001b[43m(\u001b[49m\u001b[43mmodels\u001b[49m\u001b[43m)\u001b[49m\u001b[43m \u001b[49m\u001b[38;5;241;43m+\u001b[39;49m\u001b[43m \u001b[49m\u001b[38;5;241;43m1\u001b[39;49m\u001b[43m)\u001b[49m\u001b[43m,\u001b[49m\u001b[43m \u001b[49m\u001b[38;5;28;43mlen\u001b[39;49m\u001b[43m(\u001b[49m\u001b[43mmodels\u001b[49m\u001b[43m)\u001b[49m\u001b[43m \u001b[49m\u001b[38;5;241;43m+\u001b[39;49m\u001b[43m \u001b[49m\u001b[38;5;241;43m1\u001b[39;49m\u001b[43m)\u001b[49m\u001b[43m,\u001b[49m\u001b[43m \u001b[49m\u001b[43mbatch_sizes\u001b[49m\u001b[43m \u001b[49m\u001b[38;5;241;43m*\u001b[39;49m\u001b[43m \u001b[49m\u001b[38;5;28;43mlen\u001b[39;49m\u001b[43m(\u001b[49m\u001b[43mmodels\u001b[49m\u001b[43m)\u001b[49m\u001b[43m)\u001b[49m\n\u001b[1;32m     39\u001b[0m plt\u001b[38;5;241m.\u001b[39mxlabel(\u001b[38;5;124m'\u001b[39m\u001b[38;5;124mBatch Size\u001b[39m\u001b[38;5;124m'\u001b[39m)\n\u001b[1;32m     40\u001b[0m plt\u001b[38;5;241m.\u001b[39mylabel(\u001b[38;5;124m'\u001b[39m\u001b[38;5;124mMemory Usage\u001b[39m\u001b[38;5;124m'\u001b[39m)\n",
      "File \u001b[0;32m~/opt/anaconda3/lib/python3.9/site-packages/matplotlib/pyplot.py:1795\u001b[0m, in \u001b[0;36mxticks\u001b[0;34m(ticks, labels, **kwargs)\u001b[0m\n\u001b[1;32m   1793\u001b[0m         l\u001b[38;5;241m.\u001b[39mupdate(kwargs)\n\u001b[1;32m   1794\u001b[0m \u001b[38;5;28;01melse\u001b[39;00m:\n\u001b[0;32m-> 1795\u001b[0m     labels \u001b[38;5;241m=\u001b[39m \u001b[43max\u001b[49m\u001b[38;5;241;43m.\u001b[39;49m\u001b[43mset_xticklabels\u001b[49m\u001b[43m(\u001b[49m\u001b[43mlabels\u001b[49m\u001b[43m,\u001b[49m\u001b[43m \u001b[49m\u001b[38;5;241;43m*\u001b[39;49m\u001b[38;5;241;43m*\u001b[39;49m\u001b[43mkwargs\u001b[49m\u001b[43m)\u001b[49m\n\u001b[1;32m   1797\u001b[0m \u001b[38;5;28;01mreturn\u001b[39;00m locs, labels\n",
      "File \u001b[0;32m~/opt/anaconda3/lib/python3.9/site-packages/matplotlib/axes/_base.py:75\u001b[0m, in \u001b[0;36m_axis_method_wrapper.__set_name__.<locals>.wrapper\u001b[0;34m(self, *args, **kwargs)\u001b[0m\n\u001b[1;32m     74\u001b[0m \u001b[38;5;28;01mdef\u001b[39;00m \u001b[38;5;21mwrapper\u001b[39m(\u001b[38;5;28mself\u001b[39m, \u001b[38;5;241m*\u001b[39margs, \u001b[38;5;241m*\u001b[39m\u001b[38;5;241m*\u001b[39mkwargs):\n\u001b[0;32m---> 75\u001b[0m     \u001b[38;5;28;01mreturn\u001b[39;00m \u001b[43mget_method\u001b[49m\u001b[43m(\u001b[49m\u001b[38;5;28;43mself\u001b[39;49m\u001b[43m)\u001b[49m\u001b[43m(\u001b[49m\u001b[38;5;241;43m*\u001b[39;49m\u001b[43margs\u001b[49m\u001b[43m,\u001b[49m\u001b[43m \u001b[49m\u001b[38;5;241;43m*\u001b[39;49m\u001b[38;5;241;43m*\u001b[39;49m\u001b[43mkwargs\u001b[49m\u001b[43m)\u001b[49m\n",
      "File \u001b[0;32m~/opt/anaconda3/lib/python3.9/site-packages/matplotlib/axis.py:1798\u001b[0m, in \u001b[0;36mAxis._set_ticklabels\u001b[0;34m(self, labels, fontdict, minor, **kwargs)\u001b[0m\n\u001b[1;32m   1796\u001b[0m \u001b[38;5;28;01mif\u001b[39;00m fontdict \u001b[38;5;129;01mis\u001b[39;00m \u001b[38;5;129;01mnot\u001b[39;00m \u001b[38;5;28;01mNone\u001b[39;00m:\n\u001b[1;32m   1797\u001b[0m     kwargs\u001b[38;5;241m.\u001b[39mupdate(fontdict)\n\u001b[0;32m-> 1798\u001b[0m \u001b[38;5;28;01mreturn\u001b[39;00m \u001b[38;5;28;43mself\u001b[39;49m\u001b[38;5;241;43m.\u001b[39;49m\u001b[43mset_ticklabels\u001b[49m\u001b[43m(\u001b[49m\u001b[43mlabels\u001b[49m\u001b[43m,\u001b[49m\u001b[43m \u001b[49m\u001b[43mminor\u001b[49m\u001b[38;5;241;43m=\u001b[39;49m\u001b[43mminor\u001b[49m\u001b[43m,\u001b[49m\u001b[43m \u001b[49m\u001b[38;5;241;43m*\u001b[39;49m\u001b[38;5;241;43m*\u001b[39;49m\u001b[43mkwargs\u001b[49m\u001b[43m)\u001b[49m\n",
      "File \u001b[0;32m~/opt/anaconda3/lib/python3.9/site-packages/matplotlib/axis.py:1720\u001b[0m, in \u001b[0;36mAxis.set_ticklabels\u001b[0;34m(self, ticklabels, minor, **kwargs)\u001b[0m\n\u001b[1;32m   1716\u001b[0m \u001b[38;5;28;01mif\u001b[39;00m \u001b[38;5;28misinstance\u001b[39m(locator, mticker\u001b[38;5;241m.\u001b[39mFixedLocator):\n\u001b[1;32m   1717\u001b[0m     \u001b[38;5;66;03m# Passing [] as a list of ticklabels is often used as a way to\u001b[39;00m\n\u001b[1;32m   1718\u001b[0m     \u001b[38;5;66;03m# remove all tick labels, so only error for > 0 ticklabels\u001b[39;00m\n\u001b[1;32m   1719\u001b[0m     \u001b[38;5;28;01mif\u001b[39;00m \u001b[38;5;28mlen\u001b[39m(locator\u001b[38;5;241m.\u001b[39mlocs) \u001b[38;5;241m!=\u001b[39m \u001b[38;5;28mlen\u001b[39m(ticklabels) \u001b[38;5;129;01mand\u001b[39;00m \u001b[38;5;28mlen\u001b[39m(ticklabels) \u001b[38;5;241m!=\u001b[39m \u001b[38;5;241m0\u001b[39m:\n\u001b[0;32m-> 1720\u001b[0m         \u001b[38;5;28;01mraise\u001b[39;00m \u001b[38;5;167;01mValueError\u001b[39;00m(\n\u001b[1;32m   1721\u001b[0m             \u001b[38;5;124m\"\u001b[39m\u001b[38;5;124mThe number of FixedLocator locations\u001b[39m\u001b[38;5;124m\"\u001b[39m\n\u001b[1;32m   1722\u001b[0m             \u001b[38;5;124mf\u001b[39m\u001b[38;5;124m\"\u001b[39m\u001b[38;5;124m (\u001b[39m\u001b[38;5;132;01m{\u001b[39;00m\u001b[38;5;28mlen\u001b[39m(locator\u001b[38;5;241m.\u001b[39mlocs)\u001b[38;5;132;01m}\u001b[39;00m\u001b[38;5;124m), usually from a call to\u001b[39m\u001b[38;5;124m\"\u001b[39m\n\u001b[1;32m   1723\u001b[0m             \u001b[38;5;124m\"\u001b[39m\u001b[38;5;124m set_ticks, does not match\u001b[39m\u001b[38;5;124m\"\u001b[39m\n\u001b[1;32m   1724\u001b[0m             \u001b[38;5;124mf\u001b[39m\u001b[38;5;124m\"\u001b[39m\u001b[38;5;124m the number of ticklabels (\u001b[39m\u001b[38;5;132;01m{\u001b[39;00m\u001b[38;5;28mlen\u001b[39m(ticklabels)\u001b[38;5;132;01m}\u001b[39;00m\u001b[38;5;124m).\u001b[39m\u001b[38;5;124m\"\u001b[39m)\n\u001b[1;32m   1725\u001b[0m     tickd \u001b[38;5;241m=\u001b[39m {loc: lab \u001b[38;5;28;01mfor\u001b[39;00m loc, lab \u001b[38;5;129;01min\u001b[39;00m \u001b[38;5;28mzip\u001b[39m(locator\u001b[38;5;241m.\u001b[39mlocs, ticklabels)}\n\u001b[1;32m   1726\u001b[0m     func \u001b[38;5;241m=\u001b[39m functools\u001b[38;5;241m.\u001b[39mpartial(\u001b[38;5;28mself\u001b[39m\u001b[38;5;241m.\u001b[39m_format_with_dict, tickd)\n",
      "\u001b[0;31mValueError\u001b[0m: The number of FixedLocator locations (4), usually from a call to set_ticks, does not match the number of ticklabels (24)."
     ]
    },
    {
     "data": {
      "image/png": "[encoded data removed]",
      "text/plain": [
       "<Figure size 720x432 with 1 Axes>"
      ]
     },
     "metadata": {
      "needs_background": "light"
     },
     "output_type": "display_data"
    }
   ],
   "source": [
    "import matplotlib.pyplot as plt\n",
    "import numpy as np\n",
    "\n",
    "# Example data (replace this with your actual data)\n",
    "batch_sizes = [4, 8, 16, 32]  # Batch sizes\n",
    "models = ['AlexNet', 'SqueezeNet', 'ResNet-18', 'ResNet-50', 'DenseNet', 'VGG16']  # Model names\n",
    "\n",
    "# Example data for memory usage and CPU utilization (replace with your actual data)\n",
    "mem_data = {\n",
    "    'AlexNet': [[90, 100, 110, 120], [95, 105, 115, 125], [85, 95, 105, 115], [92, 102, 112, 122]],\n",
    "    'SqueezeNet': [[85, 95, 105, 115], [88, 98, 108, 118], [80, 90, 100, 110], [87, 97, 107, 117]],\n",
    "    'ResNet-18': [[100, 110, 120, 130], [105, 115, 125, 135], [98, 108, 118, 128], [103, 113, 123, 133]],\n",
    "    'ResNet-50': [[95, 105, 115, 125], [100, 110, 120, 130], [92, 102, 112, 122], [98, 108, 118, 128]],\n",
    "    'DenseNet': [[85, 95, 105, 115], [90, 100, 110, 120], [82, 92, 102, 112], [88, 98, 108, 118]],\n",
    "    'VGG16': [[110, 120, 130, 140], [115, 125, 135, 145], [108, 118, 128, 138], [113, 123, 133, 143]],\n",
    "}\n",
    "\n",
    "cpu_data = {\n",
    "    'AlexNet': [[70, 80, 90, 100], [75, 85, 95, 105], [65, 75, 85, 95], [72, 82, 92, 102]],\n",
    "    'SqueezeNet': [[65, 75, 85, 95], [70, 80, 90, 100], [60, 70, 80, 90], [67, 77, 87, 97]],\n",
    "    'ResNet-18': [[80, 90, 100, 110], [85, 95, 105, 115], [78, 88, 98, 108], [83, 93, 103, 113]],\n",
    "    'ResNet-50': [[75, 85, 95, 105], [80, 90, 100, 110], [72, 82, 92, 102], [78, 88, 98, 108]],\n",
    "    'DenseNet': [[60, 70, 80, 90], [65, 75, 85, 95], [58, 68, 78, 88], [63, 73, 83, 93]],\n",
    "    'VGG16': [[90, 100, 110, 120], [95, 105, 115, 125], [88, 98, 108, 118], [93, 103, 113, 123]],\n",
    "}\n",
    "\n",
    "\n",
    "# Create box plots for memory usage\n",
    "plt.figure(figsize=(10, 6))\n",
    "\n",
    "for model in models:\n",
    "    mem_values = mem_data[model]\n",
    "    positions = [i + 1 + models.index(model) * 0.15 for i in range(len(batch_sizes))]\n",
    "    plt.boxplot(mem_values, positions=positions, widths=0.15, patch_artist=True, showfliers=False,\n",
    "                boxprops=dict(facecolor=f'C{models.index(model)}', alpha=0.5), manage_ticks=False)\n",
    "\n",
    "# Set x-axis ticks and labels\n",
    "plt.xticks(np.arange(1, len(batch_sizes) * (len(models) + 1), len(models) + 1), batch_sizes * len(models))\n",
    "plt.xlabel('Batch Size')\n",
    "plt.ylabel('Memory Usage')\n",
    "plt.title('Memory Usage by Batch Size for Different Models')\n",
    "\n",
    "# Create legend for models\n",
    "plt.legend(models)\n",
    "\n",
    "plt.tight_layout()\n",
    "plt.show()\n"
   ]
  },
  {
   "cell_type": "code",
   "execution_count": 40,
   "metadata": {},
   "outputs": [
    {
     "data": {
      "application/vnd.plotly.v1+json": {
       "config": {
        "plotlyServerURL": "https://plot.ly"
       },
       "data": [
        {
         "error_y": {
          "array": [
           5,
           6,
           4,
           3
          ],
          "type": "data",
          "visible": true
         },
         "name": "Memory Usage",
         "offset": -0.15,
         "type": "bar",
         "width": 0.3,
         "x": [
          4,
          8,
          16,
          32
         ],
         "y": [
          100,
          120,
          110,
          105
         ]
        },
        {
         "error_y": {
          "array": [
           4,
           3,
           5,
           6
          ],
          "type": "data",
          "visible": true
         },
         "name": "CPU Utilization",
         "offset": 0.15,
         "type": "bar",
         "width": 0.3,
         "x": [
          4,
          8,
          16,
          32
         ],
         "y": [
          80,
          85,
          90,
          88
         ]
        }
       ],
       "layout": {
        "barmode": "group",
        "legend": {
         "x": 1.1,
         "y": 1
        },
        "template": {
         "data": {
          "bar": [
           {
            "error_x": {
             "color": "#2a3f5f"
            },
            "error_y": {
             "color": "#2a3f5f"
            },
            "marker": {
             "line": {
              "color": "#E5ECF6",
              "width": 0.5
             },
             "pattern": {
              "fillmode": "overlay",
              "size": 10,
              "solidity": 0.2
             }
            },
            "type": "bar"
           }
          ],
          "barpolar": [
           {
            "marker": {
             "line": {
              "color": "#E5ECF6",
              "width": 0.5
             },
             "pattern": {
              "fillmode": "overlay",
              "size": 10,
              "solidity": 0.2
             }
            },
            "type": "barpolar"
           }
          ],
          "carpet": [
           {
            "aaxis": {
             "endlinecolor": "#2a3f5f",
             "gridcolor": "white",
             "linecolor": "white",
             "minorgridcolor": "white",
             "startlinecolor": "#2a3f5f"
            },
            "baxis": {
             "endlinecolor": "#2a3f5f",
             "gridcolor": "white",
             "linecolor": "white",
             "minorgridcolor": "white",
             "startlinecolor": "#2a3f5f"
            },
            "type": "carpet"
           }
          ],
          "choropleth": [
           {
            "colorbar": {
             "outlinewidth": 0,
             "ticks": ""
            },
            "type": "choropleth"
           }
          ],
          "contour": [
           {
            "colorbar": {
             "outlinewidth": 0,
             "ticks": ""
            },
            "colorscale": [
             [
              0,
              "#0d0887"
             ],
             [
              0.1111111111111111,
              "#46039f"
             ],
             [
              0.2222222222222222,
              "#7201a8"
             ],
             [
              0.3333333333333333,
              "#9c179e"
             ],
             [
              0.4444444444444444,
              "#bd3786"
             ],
             [
              0.5555555555555556,
              "#d8576b"
             ],
             [
              0.6666666666666666,
              "#ed7953"
             ],
             [
              0.7777777777777778,
              "#fb9f3a"
             ],
             [
              0.8888888888888888,
              "#fdca26"
             ],
             [
              1,
              "#f0f921"
             ]
            ],
            "type": "contour"
           }
          ],
          "contourcarpet": [
           {
            "colorbar": {
             "outlinewidth": 0,
             "ticks": ""
            },
            "type": "contourcarpet"
           }
          ],
          "heatmap": [
           {
            "colorbar": {
             "outlinewidth": 0,
             "ticks": ""
            },
            "colorscale": [
             [
              0,
              "#0d0887"
             ],
             [
              0.1111111111111111,
              "#46039f"
             ],
             [
              0.2222222222222222,
              "#7201a8"
             ],
             [
              0.3333333333333333,
              "#9c179e"
             ],
             [
              0.4444444444444444,
              "#bd3786"
             ],
             [
              0.5555555555555556,
              "#d8576b"
             ],
             [
              0.6666666666666666,
              "#ed7953"
             ],
             [
              0.7777777777777778,
              "#fb9f3a"
             ],
             [
              0.8888888888888888,
              "#fdca26"
             ],
             [
              1,
              "#f0f921"
             ]
            ],
            "type": "heatmap"
           }
          ],
          "heatmapgl": [
           {
            "colorbar": {
             "outlinewidth": 0,
             "ticks": ""
            },
            "colorscale": [
             [
              0,
              "#0d0887"
             ],
             [
              0.1111111111111111,
              "#46039f"
             ],
             [
              0.2222222222222222,
              "#7201a8"
             ],
             [
              0.3333333333333333,
              "#9c179e"
             ],
             [
              0.4444444444444444,
              "#bd3786"
             ],
             [
              0.5555555555555556,
              "#d8576b"
             ],
             [
              0.6666666666666666,
              "#ed7953"
             ],
             [
              0.7777777777777778,
              "#fb9f3a"
             ],
             [
              0.8888888888888888,
              "#fdca26"
             ],
             [
              1,
              "#f0f921"
             ]
            ],
            "type": "heatmapgl"
           }
          ],
          "histogram": [
           {
            "marker": {
             "pattern": {
              "fillmode": "overlay",
              "size": 10,
              "solidity": 0.2
             }
            },
            "type": "histogram"
           }
          ],
          "histogram2d": [
           {
            "colorbar": {
             "outlinewidth": 0,
             "ticks": ""
            },
            "colorscale": [
             [
              0,
              "#0d0887"
             ],
             [
              0.1111111111111111,
              "#46039f"
             ],
             [
              0.2222222222222222,
              "#7201a8"
             ],
             [
              0.3333333333333333,
              "#9c179e"
             ],
             [
              0.4444444444444444,
              "#bd3786"
             ],
             [
              0.5555555555555556,
              "#d8576b"
             ],
             [
              0.6666666666666666,
              "#ed7953"
             ],
             [
              0.7777777777777778,
              "#fb9f3a"
             ],
             [
              0.8888888888888888,
              "#fdca26"
             ],
             [
              1,
              "#f0f921"
             ]
            ],
            "type": "histogram2d"
           }
          ],
          "histogram2dcontour": [
           {
            "colorbar": {
             "outlinewidth": 0,
             "ticks": ""
            },
            "colorscale": [
             [
              0,
              "#0d0887"
             ],
             [
              0.1111111111111111,
              "#46039f"
             ],
             [
              0.2222222222222222,
              "#7201a8"
             ],
             [
              0.3333333333333333,
              "#9c179e"
             ],
             [
              0.4444444444444444,
              "#bd3786"
             ],
             [
              0.5555555555555556,
              "#d8576b"
             ],
             [
              0.6666666666666666,
              "#ed7953"
             ],
             [
              0.7777777777777778,
              "#fb9f3a"
             ],
             [
              0.8888888888888888,
              "#fdca26"
             ],
             [
              1,
              "#f0f921"
             ]
            ],
            "type": "histogram2dcontour"
           }
          ],
          "mesh3d": [
           {
            "colorbar": {
             "outlinewidth": 0,
             "ticks": ""
            },
            "type": "mesh3d"
           }
          ],
          "parcoords": [
           {
            "line": {
             "colorbar": {
              "outlinewidth": 0,
              "ticks": ""
             }
            },
            "type": "parcoords"
           }
          ],
          "pie": [
           {
            "automargin": true,
            "type": "pie"
           }
          ],
          "scatter": [
           {
            "marker": {
             "colorbar": {
              "outlinewidth": 0,
              "ticks": ""
             }
            },
            "type": "scatter"
           }
          ],
          "scatter3d": [
           {
            "line": {
             "colorbar": {
              "outlinewidth": 0,
              "ticks": ""
             }
            },
            "marker": {
             "colorbar": {
              "outlinewidth": 0,
              "ticks": ""
             }
            },
            "type": "scatter3d"
           }
          ],
          "scattercarpet": [
           {
            "marker": {
             "colorbar": {
              "outlinewidth": 0,
              "ticks": ""
             }
            },
            "type": "scattercarpet"
           }
          ],
          "scattergeo": [
           {
            "marker": {
             "colorbar": {
              "outlinewidth": 0,
              "ticks": ""
             }
            },
            "type": "scattergeo"
           }
          ],
          "scattergl": [
           {
            "marker": {
             "colorbar": {
              "outlinewidth": 0,
              "ticks": ""
             }
            },
            "type": "scattergl"
           }
          ],
          "scattermapbox": [
           {
            "marker": {
             "colorbar": {
              "outlinewidth": 0,
              "ticks": ""
             }
            },
            "type": "scattermapbox"
           }
          ],
          "scatterpolar": [
           {
            "marker": {
             "colorbar": {
              "outlinewidth": 0,
              "ticks": ""
             }
            },
            "type": "scatterpolar"
           }
          ],
          "scatterpolargl": [
           {
            "marker": {
             "colorbar": {
              "outlinewidth": 0,
              "ticks": ""
             }
            },
            "type": "scatterpolargl"
           }
          ],
          "scatterternary": [
           {
            "marker": {
             "colorbar": {
              "outlinewidth": 0,
              "ticks": ""
             }
            },
            "type": "scatterternary"
           }
          ],
          "surface": [
           {
            "colorbar": {
             "outlinewidth": 0,
             "ticks": ""
            },
            "colorscale": [
             [
              0,
              "#0d0887"
             ],
             [
              0.1111111111111111,
              "#46039f"
             ],
             [
              0.2222222222222222,
              "#7201a8"
             ],
             [
              0.3333333333333333,
              "#9c179e"
             ],
             [
              0.4444444444444444,
              "#bd3786"
             ],
             [
              0.5555555555555556,
              "#d8576b"
             ],
             [
              0.6666666666666666,
              "#ed7953"
             ],
             [
              0.7777777777777778,
              "#fb9f3a"
             ],
             [
              0.8888888888888888,
              "#fdca26"
             ],
             [
              1,
              "#f0f921"
             ]
            ],
            "type": "surface"
           }
          ],
          "table": [
           {
            "cells": {
             "fill": {
              "color": "#EBF0F8"
             },
             "line": {
              "color": "white"
             }
            },
            "header": {
             "fill": {
              "color": "#C8D4E3"
             },
             "line": {
              "color": "white"
             }
            },
            "type": "table"
           }
          ]
         },
         "layout": {
          "annotationdefaults": {
           "arrowcolor": "#2a3f5f",
           "arrowhead": 0,
           "arrowwidth": 1
          },
          "autotypenumbers": "strict",
          "coloraxis": {
           "colorbar": {
            "outlinewidth": 0,
            "ticks": ""
           }
          },
          "colorscale": {
           "diverging": [
            [
             0,
             "#8e0152"
            ],
            [
             0.1,
             "#c51b7d"
            ],
            [
             0.2,
             "#de77ae"
            ],
            [
             0.3,
             "#f1b6da"
            ],
            [
             0.4,
             "#fde0ef"
            ],
            [
             0.5,
             "#f7f7f7"
            ],
            [
             0.6,
             "#e6f5d0"
            ],
            [
             0.7,
             "#b8e186"
            ],
            [
             0.8,
             "#7fbc41"
            ],
            [
             0.9,
             "#4d9221"
            ],
            [
             1,
             "#276419"
            ]
           ],
           "sequential": [
            [
             0,
             "#0d0887"
            ],
            [
             0.1111111111111111,
             "#46039f"
            ],
            [
             0.2222222222222222,
             "#7201a8"
            ],
            [
             0.3333333333333333,
             "#9c179e"
            ],
            [
             0.4444444444444444,
             "#bd3786"
            ],
            [
             0.5555555555555556,
             "#d8576b"
            ],
            [
             0.6666666666666666,
             "#ed7953"
            ],
            [
             0.7777777777777778,
             "#fb9f3a"
            ],
            [
             0.8888888888888888,
             "#fdca26"
            ],
            [
             1,
             "#f0f921"
            ]
           ],
           "sequentialminus": [
            [
             0,
             "#0d0887"
            ],
            [
             0.1111111111111111,
             "#46039f"
            ],
            [
             0.2222222222222222,
             "#7201a8"
            ],
            [
             0.3333333333333333,
             "#9c179e"
            ],
            [
             0.4444444444444444,
             "#bd3786"
            ],
            [
             0.5555555555555556,
             "#d8576b"
            ],
            [
             0.6666666666666666,
             "#ed7953"
            ],
            [
             0.7777777777777778,
             "#fb9f3a"
            ],
            [
             0.8888888888888888,
             "#fdca26"
            ],
            [
             1,
             "#f0f921"
            ]
           ]
          },
          "colorway": [
           "#636efa",
           "#EF553B",
           "#00cc96",
           "#ab63fa",
           "#FFA15A",
           "#19d3f3",
           "#FF6692",
           "#B6E880",
           "#FF97FF",
           "#FECB52"
          ],
          "font": {
           "color": "#2a3f5f"
          },
          "geo": {
           "bgcolor": "white",
           "lakecolor": "white",
           "landcolor": "#E5ECF6",
           "showlakes": true,
           "showland": true,
           "subunitcolor": "white"
          },
          "hoverlabel": {
           "align": "left"
          },
          "hovermode": "closest",
          "mapbox": {
           "style": "light"
          },
          "paper_bgcolor": "white",
          "plot_bgcolor": "#E5ECF6",
          "polar": {
           "angularaxis": {
            "gridcolor": "white",
            "linecolor": "white",
            "ticks": ""
           },
           "bgcolor": "#E5ECF6",
           "radialaxis": {
            "gridcolor": "white",
            "linecolor": "white",
            "ticks": ""
           }
          },
          "scene": {
           "xaxis": {
            "backgroundcolor": "#E5ECF6",
            "gridcolor": "white",
            "gridwidth": 2,
            "linecolor": "white",
            "showbackground": true,
            "ticks": "",
            "zerolinecolor": "white"
           },
           "yaxis": {
            "backgroundcolor": "#E5ECF6",
            "gridcolor": "white",
            "gridwidth": 2,
            "linecolor": "white",
            "showbackground": true,
            "ticks": "",
            "zerolinecolor": "white"
           },
           "zaxis": {
            "backgroundcolor": "#E5ECF6",
            "gridcolor": "white",
            "gridwidth": 2,
            "linecolor": "white",
            "showbackground": true,
            "ticks": "",
            "zerolinecolor": "white"
           }
          },
          "shapedefaults": {
           "line": {
            "color": "#2a3f5f"
           }
          },
          "ternary": {
           "aaxis": {
            "gridcolor": "white",
            "linecolor": "white",
            "ticks": ""
           },
           "baxis": {
            "gridcolor": "white",
            "linecolor": "white",
            "ticks": ""
           },
           "bgcolor": "#E5ECF6",
           "caxis": {
            "gridcolor": "white",
            "linecolor": "white",
            "ticks": ""
           }
          },
          "title": {
           "x": 0.05
          },
          "xaxis": {
           "automargin": true,
           "gridcolor": "white",
           "linecolor": "white",
           "ticks": "",
           "title": {
            "standoff": 15
           },
           "zerolinecolor": "white",
           "zerolinewidth": 2
          },
          "yaxis": {
           "automargin": true,
           "gridcolor": "white",
           "linecolor": "white",
           "ticks": "",
           "title": {
            "standoff": 15
           },
           "zerolinecolor": "white",
           "zerolinewidth": 2
          }
         }
        },
        "title": {
         "text": "Metrics by Batch Size"
        },
        "xaxis": {
         "anchor": "y",
         "domain": [
          0,
          1
         ],
         "title": {
          "text": "Batch Size"
         }
        },
        "yaxis": {
         "anchor": "x",
         "domain": [
          0,
          1
         ],
         "title": {
          "text": "Metrics"
         }
        }
       }
      }
     },
     "metadata": {},
     "output_type": "display_data"
    }
   ],
   "source": [
    "import plotly.graph_objects as go\n",
    "from plotly.subplots import make_subplots\n",
    "\n",
    "# Example data (replace this with your actual data)\n",
    "batch_sizes = [4, 8, 16, 32]  # Batch sizes\n",
    "mem_mean = [100, 120, 110, 105]  # Mean memory usage for each batch size\n",
    "mem_std = [5, 6, 4, 3]  # Standard deviation of memory usage for each batch size\n",
    "cpu_mean = [80, 85, 90, 88]  # Mean CPU utilization for each batch size\n",
    "cpu_std = [4, 3, 5, 6]  # Standard deviation of CPU utilization for each batch size\n",
    "\n",
    "# Create traces for memory and CPU metrics with error bars\n",
    "trace_mem = go.Bar(\n",
    "    x=batch_sizes,\n",
    "    y=mem_mean,\n",
    "    name='Memory Usage',\n",
    "    error_y=dict(type='data', array=mem_std, visible=True),\n",
    "    width=0.3,\n",
    "    offset=-0.15\n",
    ")\n",
    "\n",
    "trace_cpu = go.Bar(\n",
    "    x=batch_sizes,\n",
    "    y=cpu_mean,\n",
    "    name='CPU Utilization',\n",
    "    error_y=dict(type='data', array=cpu_std, visible=True),\n",
    "    width=0.3,\n",
    "    offset=0.15\n",
    ")\n",
    "\n",
    "fig = make_subplots(rows=1, cols=1)\n",
    "\n",
    "fig.add_trace(trace_mem)\n",
    "fig.add_trace(trace_cpu)\n",
    "\n",
    "fig.update_layout(\n",
    "    title='Metrics by Batch Size',\n",
    "    xaxis=dict(title='Batch Size'),\n",
    "    yaxis=dict(title='Metrics'),\n",
    "    barmode='group',\n",
    "    legend=dict(x=1.1, y=1.0)\n",
    ")\n",
    "\n",
    "fig.show()\n"
   ]
  },
  {
   "cell_type": "code",
   "execution_count": 44,
   "metadata": {},
   "outputs": [
    {
     "name": "stdout",
     "output_type": "stream",
     "text": [
      "   batch_size model_name  used_mean   used_std\n",
      "0          32    Model A      110.0  14.142136\n",
      "1          64    Model B       85.0   7.071068\n",
      "2         128    Model C      145.0   7.071068\n"
     ]
    }
   ],
   "source": [
    "import pandas as pd\n",
    "\n",
    "# Sample DataFrame\n",
    "data = {\n",
    "    'batch_size': [32, 32, 64, 64, 128, 128],\n",
    "    'model_name': ['Model A', 'Model A', 'Model B', 'Model B', 'Model C', 'Model C'],\n",
    "    'used': [100, 120, 80, 90, 150, 140]\n",
    "}\n",
    "\n",
    "mem_df = pd.DataFrame(data)\n",
    "\n",
    "# Grouping by 'batch_size' and 'model_name' and calculating mean and std\n",
    "mem_used = mem_df.groupby([\"batch_size\", \"model_name\"])[\"used\"].agg(['mean', 'std']).reset_index()\n",
    "mem_used = mem_used.rename(columns={\"mean\": \"used_mean\", \"std\": \"used_std\"})\n",
    "\n",
    "print(mem_used)\n"
   ]
  }
 ],
 "metadata": {
  "kernelspec": {
   "display_name": "Python 3",
   "language": "python",
   "name": "python3"
  },
  "language_info": {
   "codemirror_mode": {
    "name": "ipython",
    "version": 3
   },
   "file_extension": ".py",
   "mimetype": "text/x-python",
   "name": "python",
   "nbconvert_exporter": "python",
   "pygments_lexer": "ipython3",
   "version": "3.9.12"
  }
 },
 "nbformat": 4,
 "nbformat_minor": 2
}
